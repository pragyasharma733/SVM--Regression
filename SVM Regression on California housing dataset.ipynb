{
 "cells": [
  {
   "cell_type": "markdown",
   "id": "aba87878",
   "metadata": {},
   "source": [
    "SVM Regression on California housing dataset"
   ]
  },
  {
   "cell_type": "code",
   "execution_count": 4,
   "id": "3d30fd96",
   "metadata": {},
   "outputs": [],
   "source": [
    "import numpy as np\n",
    "import pandas as pd\n",
    "from sklearn.model_selection import StratifiedShuffleSplit\n",
    "from sklearn.pipeline import Pipeline\n",
    "from sklearn.impute import SimpleImputer\n",
    "from sklearn.compose import ColumnTransformer\n",
    "from sklearn.preprocessing import StandardScaler, OneHotEncoder\n",
    "\n",
    "import os\n",
    "import tarfile\n",
    "from six.moves import urllib\n",
    "# import numpy as np\n",
    "# import pandas as pd\n",
    "# from sklearn.model_selection import StratifiedShuffleSplit\n",
    "\n",
    "HOUSING_PATH = os.path.join(\"datasets\", \"housing\")\n",
    "\n",
    "def fetch_housing_data(housing_url, housing_path=HOUSING_PATH):\n",
    "    if not os.path.isdir(housing_path):\n",
    "        os.makedirs(housing_path)\n",
    "    tgz_path = os.path.join(housing_path, \"housing.tgz\")\n",
    "    urllib.request.urlretrieve(housing_url, tgz_path)\n",
    "    housing_tgz = tarfile.open(tgz_path)\n",
    "    housing_tgz.extractall(path=housing_path)\n",
    "    housing_tgz.close()\n",
    "\n",
    "def load_housing_data(housing_path=HOUSING_PATH):\n",
    "    csv_path = os.path.join(housing_path, \"housing.csv\")\n",
    "    return pd.read_csv(csv_path)\n",
    "\n",
    "HOUSING_URL = (\"https://raw.githubusercontent.com/ageron/\"+\n",
    "               \"handson-ml2/master/datasets/housing/housing.tgz\")\n",
    "fetch_housing_data(HOUSING_URL)\n",
    "data = load_housing_data()\n",
    "\n",
    "data[\"income_cat\"] = np.ceil(data[\"median_income\"] / 1.5)\n",
    "data[\"income_cat\"].where(data[\"income_cat\"] < 5, 5.0, inplace=True)\n",
    "split = StratifiedShuffleSplit(n_splits=1, test_size=0.2, random_state=42)\n",
    "for train_index, test_index in split.split(data, data[\"income_cat\"]):\n",
    "    strat_train_set = data.loc[train_index]\n",
    "    strat_test_set = data.loc[test_index]\n",
    "for set_ in (strat_train_set, strat_test_set):\n",
    "    set_.drop(\"income_cat\", axis=1, inplace=True)\n",
    "X_raw = strat_train_set.drop(\"median_house_value\", axis=1)\n",
    "y = strat_train_set[\"median_house_value\"].copy()\n",
    "\n",
    "num_pipeline = Pipeline([\n",
    "        ('imputer', SimpleImputer(strategy=\"median\")),\n",
    "        ('std_scaler', StandardScaler()),\n",
    "    ])\n",
    "num_features = X_raw.drop(\"ocean_proximity\", axis=1)\n",
    "num_attribs = list(num_features)\n",
    "cat_attribs = [\"ocean_proximity\"]\n",
    "full_pipeline = ColumnTransformer([\n",
    "        (\"num\", num_pipeline, num_attribs),\n",
    "        (\"cat\", OneHotEncoder(), cat_attribs),\n",
    "    ])\n",
    "\n",
    "X = full_pipeline.fit_transform(X_raw)\n",
    "X_test_raw = strat_test_set.drop(\"median_house_value\", axis=1)\n",
    "y_test = strat_test_set[\"median_house_value\"].copy()\n",
    "X_test = full_pipeline.transform(X_test_raw)"
   ]
  },
  {
   "cell_type": "code",
   "execution_count": 5,
   "id": "1c75b4b6",
   "metadata": {},
   "outputs": [],
   "source": [
    "from sklearn.svm import SVR\n",
    "svm_rbf_reg = SVR(max_iter=50000)\n",
    "svm_sigmoid_reg = SVR(kernel=\"sigmoid\",max_iter=50000)"
   ]
  },
  {
   "cell_type": "code",
   "execution_count": 7,
   "id": "52a22130",
   "metadata": {},
   "outputs": [
    {
     "name": "stdout",
     "output_type": "stream",
     "text": [
      "Best Parameters for rbf kernel:{'C': 4.745401188473625, 'gamma': 0.07969454818643928}\n",
      "best MSE score for rbf kernel: 13877012057.239176\n"
     ]
    }
   ],
   "source": [
    "from scipy.stats import reciprocal, uniform\n",
    "from sklearn.model_selection import RandomizedSearchCV\n",
    "\n",
    "param_distributions = {\"gamma\": reciprocal(0.001, 0.1), \"C\": uniform(1, 10)}\n",
    "rnd_search_cv_rbf = RandomizedSearchCV(svm_rbf_reg, param_distributions, n_iter=10, cv=3,\n",
    "                                       scoring= 'neg_mean_squared_error', random_state = 42,n_jobs=-1)\n",
    "rnd_search_cv_rbf.fit(X, y)\n",
    "\n",
    "print(f'Best Parameters for rbf kernel:{rnd_search_cv_rbf.best_params_}')\n",
    "print(f'best MSE score for rbf kernel: {-rnd_search_cv_rbf.best_score_}')"
   ]
  },
  {
   "cell_type": "code",
   "execution_count": 8,
   "id": "adfe689f",
   "metadata": {},
   "outputs": [
    {
     "name": "stdout",
     "output_type": "stream",
     "text": [
      "Best Parameters for sigmoid kernel:{'C': 4.745401188473625, 'gamma': 0.07969454818643928}\n",
      "best MSE score for sigmoid kernel: 13744315287.792427\n"
     ]
    }
   ],
   "source": [
    "param_distributions = {\"gamma\": reciprocal(0.001, 0.1), \"C\": uniform(1, 10)}\n",
    "rnd_search_cv_sigmoid = RandomizedSearchCV(svm_sigmoid_reg, param_distributions, n_iter=10, cv=3,\n",
    "                                           scoring= 'neg_mean_squared_error', random_state = 42,n_jobs=-1)\n",
    "rnd_search_cv_sigmoid.fit(X, y)\n",
    "\n",
    "print(f'Best Parameters for sigmoid kernel:{rnd_search_cv_sigmoid.best_params_}')\n",
    "print(f'best MSE score for sigmoid kernel: {-rnd_search_cv_sigmoid.best_score_}')"
   ]
  },
  {
   "cell_type": "code",
   "execution_count": 9,
   "id": "7e3a8066",
   "metadata": {},
   "outputs": [
    {
     "name": "stdout",
     "output_type": "stream",
     "text": [
      "Sigmoid best estimator works better than RBF best estimator\n"
     ]
    }
   ],
   "source": [
    "score_rbf = -rnd_search_cv_rbf.best_score_\n",
    "score_sigmoid = -rnd_search_cv_sigmoid.best_score_\n",
    "print(\"Sigmoid best estimator works better than RBF best estimator\") if score_sigmoid < score_rbf else print(\"RBF best estimator works better than Sigmoid best estimator\")\n"
   ]
  },
  {
   "cell_type": "code",
   "execution_count": 11,
   "id": "dac01b81",
   "metadata": {},
   "outputs": [
    {
     "name": "stdout",
     "output_type": "stream",
     "text": [
      "114741.28850451492\n"
     ]
    }
   ],
   "source": [
    "from sklearn.metrics import mean_squared_error\n",
    "final_model = rnd_search_cv_sigmoid.best_estimator_\n",
    "final_pred = final_model.predict(X_test)\n",
    "final_rmse = np.sqrt(mean_squared_error(y_test, final_pred))\n",
    "print(final_rmse)\n"
   ]
  }
 ],
 "metadata": {
  "kernelspec": {
   "display_name": "Python 3 (ipykernel)",
   "language": "python",
   "name": "python3"
  },
  "language_info": {
   "codemirror_mode": {
    "name": "ipython",
    "version": 3
   },
   "file_extension": ".py",
   "mimetype": "text/x-python",
   "name": "python",
   "nbconvert_exporter": "python",
   "pygments_lexer": "ipython3",
   "version": "3.9.7"
  }
 },
 "nbformat": 4,
 "nbformat_minor": 5
}
